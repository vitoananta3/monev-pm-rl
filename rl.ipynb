{
 "cells": [
  {
   "cell_type": "markdown",
   "metadata": {},
   "source": [
    "# Deep Q-Learning - Lunar Lander\n",
    "\n",
    "In this assignment, you will train an agent to land a lunar lander safely on a landing pad on the surface of the moon.\n",
    "\n",
    "\n",
    "# Outline\n",
    "- [ 1 - Import Packages <img align=\"Right\" src=\"./images/lunar_lander.gif\" width = 60% >](#1)\n",
    "- [ 2 - Hyperparameters](#2)\n",
    "- [ 3 - The Lunar Lander Environment](#3)\n",
    "  - [ 3.1 Action Space](#3.1)\n",
    "  - [ 3.2 Observation Space](#3.2)\n",
    "  - [ 3.3 Rewards](#3.3)\n",
    "  - [ 3.4 Episode Termination](#3.4)\n",
    "- [ 4 - Load the Environment](#4)\n",
    "- [ 5 - Interacting with the Gym Environment](#5)\n",
    "    - [ 5.1 Exploring the Environment's Dynamics](#5.1)\n",
    "- [ 6 - Deep Q-Learning](#6)\n",
    "  - [ 6.1 Target Network](#6.1)\n",
    "    - [ Exercise 1](#ex01)\n",
    "  - [ 6.2 Experience Replay](#6.2)\n",
    "- [ 7 - Deep Q-Learning Algorithm with Experience Replay](#7)\n",
    "  - [ Exercise 2](#ex02)\n",
    "- [ 8 - Update the Network Weights](#8)\n",
    "- [ 9 - Train the Agent](#9)\n",
    "- [ 10 - See the Trained Agent In Action](#10)\n",
    "- [ 11 - Congratulations!](#11)\n",
    "- [ 12 - References](#12)\n"
   ]
  },
  {
   "cell_type": "markdown",
   "metadata": {},
   "source": [
    "_**NOTE:** To prevent errors from the autograder, you are not allowed to edit or delete non-graded cells in this lab. Please also refrain from adding any new cells. \n",
    "**Once you have passed this assignment** and want to experiment with any of the non-graded code, you may follow the instructions at the bottom of this notebook._"
   ]
  },
  {
   "cell_type": "markdown",
   "metadata": {},
   "source": [
    "<a name=\"1\"></a>\n",
    "## 1 - Import Packages\n",
    "\n",
    "We'll make use of the following packages:\n",
    "- `numpy` is a package for scientific computing in python.\n",
    "- `deque` will be our data structure for our memory buffer.\n",
    "- `namedtuple` will be used to store the experience tuples.\n",
    "- The `gym` toolkit is a collection of environments that can be used to test reinforcement learning algorithms. We should note that in this notebook we are using `gym` version `0.24.0`.\n",
    "- `PIL.Image` and `pyvirtualdisplay` are needed to render the Lunar Lander environment.\n",
    "- We will use several modules from the `tensorflow.keras` framework for building deep learning models.\n",
    "- `utils` is a module that contains helper functions for this assignment. You do not need to modify the code in this file.\n",
    "\n",
    "Run the cell below to import all the necessary packages."
   ]
  },
  {
   "cell_type": "code",
   "execution_count": 21,
   "metadata": {
    "deletable": false,
    "editable": false,
    "id": "KYbOPKRtfQOr"
   },
   "outputs": [],
   "source": [
    "import time\n",
    "from collections import deque, namedtuple\n",
    "\n",
    "import gym\n",
    "import numpy as np\n",
    "import PIL.Image\n",
    "import tensorflow as tf\n",
    "import utils\n",
    "\n",
    "from pyvirtualdisplay import Display\n",
    "from tensorflow.keras import Sequential\n",
    "from tensorflow.keras.layers import Dense, Input\n",
    "from tensorflow.keras.losses import MSE\n",
    "from tensorflow.keras.optimizers import Adam"
   ]
  },
  {
   "cell_type": "code",
   "execution_count": 22,
   "metadata": {
    "deletable": false,
    "editable": false
   },
   "outputs": [],
   "source": [
    "# Set up a virtual display to render the Lunar Lander environment.\n",
    "Display(visible=0, size=(840, 480)).start();\n",
    "\n",
    "# Set the random seed for TensorFlow\n",
    "tf.random.set_seed(utils.SEED)"
   ]
  },
  {
   "cell_type": "markdown",
   "metadata": {},
   "source": [
    "<a name=\"2\"></a>\n",
    "## 2 - Hyperparameters\n",
    "\n",
    "Run the cell below to set the hyperparameters."
   ]
  },
  {
   "cell_type": "code",
   "execution_count": 23,
   "metadata": {
    "deletable": false,
    "editable": false
   },
   "outputs": [],
   "source": [
    "MEMORY_SIZE = 100_000     # size of memory buffer\n",
    "GAMMA = 0.995             # discount factor\n",
    "ALPHA = 1e-3              # learning rate  \n",
    "NUM_STEPS_FOR_UPDATE = 4  # perform a learning update every C time steps"
   ]
  },
  {
   "cell_type": "markdown",
   "metadata": {},
   "source": [
    "<a name=\"3\"></a>\n",
    "## 3 - The Lunar Lander Environment\n",
    "\n",
    "In this notebook we will be using [OpenAI's Gym Library](https://www.gymlibrary.dev/). The Gym library provides a wide variety of environments for reinforcement learning. To put it simply, an environment represents a problem or task to be solved. In this notebook, we will try to solve the Lunar Lander environment using reinforcement learning.\n",
    "\n",
    "The goal of the Lunar Lander environment is to land the lunar lander safely on the landing pad on the surface of the moon. The landing pad is designated by two flag poles and its center is at coordinates `(0,0)` but the lander is also allowed to land outside of the landing pad. The lander starts at the top center of the environment with a random initial force applied to its center of mass and has infinite fuel. The environment is considered solved if you get `200` points. \n",
    "\n",
    "<br>\n",
    "<br>\n",
    "<figure>\n",
    "  <img src = \"images/lunar_lander.gif\" width = 40%>\n",
    "      <figcaption style = \"text-align: center; font-style: italic\">Fig 1. Lunar Lander Environment.</figcaption>\n",
    "</figure>\n",
    "\n",
    "\n",
    "\n",
    "<a name=\"3.1\"></a>\n",
    "### 3.1 Action Space\n",
    "\n",
    "The agent has four discrete actions available:\n",
    "\n",
    "* Do nothing.\n",
    "* Fire right engine.\n",
    "* Fire main engine.\n",
    "* Fire left engine.\n",
    "\n",
    "Each action has a corresponding numerical value:\n",
    "\n",
    "```python\n",
    "Do nothing = 0\n",
    "Fire right engine = 1\n",
    "Fire main engine = 2\n",
    "Fire left engine = 3\n",
    "```\n",
    "\n",
    "<a name=\"3.2\"></a>\n",
    "### 3.2 Observation Space\n",
    "\n",
    "The agent's observation space consists of a state vector with 8 variables:\n",
    "\n",
    "* Its $(x,y)$ coordinates. The landing pad is always at coordinates $(0,0)$.\n",
    "* Its linear velocities $(\\dot x,\\dot y)$.\n",
    "* Its angle $\\theta$.\n",
    "* Its angular velocity $\\dot \\theta$.\n",
    "* Two booleans, $l$ and $r$, that represent whether each leg is in contact with the ground or not.\n",
    "\n",
    "<a name=\"3.3\"></a>\n",
    "### 3.3 Rewards\n",
    "\n",
    "After every step, a reward is granted. The total reward of an episode is the sum of the rewards for all the steps within that episode.\n",
    "\n",
    "For each step, the reward:\n",
    "- is increased/decreased the closer/further the lander is to the landing pad.\n",
    "- is increased/decreased the slower/faster the lander is moving.\n",
    "- is decreased the more the lander is tilted (angle not horizontal).\n",
    "- is increased by 10 points for each leg that is in contact with the ground.\n",
    "- is decreased by 0.03 points each frame a side engine is firing.\n",
    "- is decreased by 0.3 points each frame the main engine is firing.\n",
    "\n",
    "The episode receives an additional reward of -100 or +100 points for crashing or landing safely respectively.\n",
    "\n",
    "<a name=\"3.4\"></a>\n",
    "### 3.4 Episode Termination\n",
    "\n",
    "An episode ends (i.e the environment enters a terminal state) if:\n",
    "\n",
    "* The lunar lander crashes (i.e if the body of the lunar lander comes in contact with the surface of the moon).\n",
    "\n",
    "* The absolute value of the lander's $x$-coordinate is greater than 1 (i.e. it goes beyond the left or right border)\n",
    "\n",
    "You can check out the [Open AI Gym documentation](https://www.gymlibrary.dev/environments/box2d/lunar_lander/) for a full description of the environment. "
   ]
  },
  {
   "cell_type": "markdown",
   "metadata": {},
   "source": [
    "<a name=\"4\"></a>\n",
    "## 4 - Load the Environment\n",
    "\n",
    "We start by loading the `LunarLander-v2` environment from the `gym` library by using the `.make()` method. `LunarLander-v2` is the latest version of the Lunar Lander environment and you can read about its version history in the [Open AI Gym documentation](https://www.gymlibrary.dev/environments/box2d/lunar_lander/#version-history)."
   ]
  },
  {
   "cell_type": "code",
   "execution_count": 24,
   "metadata": {
    "deletable": false,
    "editable": false,
    "id": "ILVMYKewfR0n"
   },
   "outputs": [],
   "source": [
    "env = gym.make('LunarLander-v2')"
   ]
  },
  {
   "cell_type": "markdown",
   "metadata": {},
   "source": [
    "Once we load the environment we use the `.reset()` method to reset the environment to the initial state. The lander starts at the top center of the environment and we can render the first frame of the environment by using the `.render()` method."
   ]
  },
  {
   "cell_type": "code",
   "execution_count": 25,
   "metadata": {
    "deletable": false,
    "editable": false
   },
   "outputs": [
    {
     "data": {
      "image/png": "[encoded data removed]",
      "text/plain": [
       "<PIL.Image.Image image mode=RGB size=600x400 at 0x7768F5462A50>"
      ]
     },
     "execution_count": 25,
     "metadata": {},
     "output_type": "execute_result"
    }
   ],
   "source": [
    "env.reset()\n",
    "PIL.Image.fromarray(env.render(mode='rgb_array'))"
   ]
  },
  {
   "cell_type": "markdown",
   "metadata": {},
   "source": [
    "In order to build our neural network later on we need to know the size of the state vector and the number of valid actions. We can get this information from our environment by using the `.observation_space.shape` and `action_space.n` methods, respectively."
   ]
  },
  {
   "cell_type": "code",
   "execution_count": 26,
   "metadata": {
    "deletable": false,
    "editable": false,
    "id": "x3fdqdG4CUu2"
   },
   "outputs": [
    {
     "name": "stdout",
     "output_type": "stream",
     "text": [
      "State Shape: (8,)\n",
      "Number of actions: 4\n"
     ]
    }
   ],
   "source": [
    "state_size = env.observation_space.shape\n",
    "num_actions = env.action_space.n\n",
    "\n",
    "print('State Shape:', state_size)\n",
    "print('Number of actions:', num_actions)"
   ]
  },
  {
   "cell_type": "markdown",
   "metadata": {},
   "source": [
    "<a name=\"5\"></a>\n",
    "## 5 - Interacting with the Gym Environment\n",
    "\n",
    "The Gym library implements the standard “agent-environment loop” formalism:\n",
    "\n",
    "<br>\n",
    "<center>\n",
    "<video src = \"./videos/rl_formalism.m4v\" width=\"840\" height=\"480\" controls autoplay loop poster=\"./images/rl_formalism.png\"> </video>\n",
    "<figcaption style = \"text-align:center; font-style:italic\">Fig 2. Agent-environment Loop Formalism.</figcaption>\n",
    "</center>\n",
    "<br>\n",
    "\n",
    "In the standard “agent-environment loop” formalism, an agent interacts with the environment in discrete time steps $t=0,1,2,...$. At each time step $t$, the agent uses a policy $\\pi$ to select an action $A_t$ based on its observation of the environment's state $S_t$. The agent receives a numerical reward $R_t$ and on the next time step, moves to a new state $S_{t+1}$.\n",
    "\n",
    "<a name=\"5.1\"></a>\n",
    "### 5.1 Exploring the Environment's Dynamics\n",
    "\n",
    "In Open AI's Gym environments, we use the `.step()` method to run a single time step of the environment's dynamics. In the version of `gym` that we are using the `.step()` method accepts an action and returns four values:\n",
    "\n",
    "* `observation` (**object**): an environment-specific object representing your observation of the environment. In the Lunar Lander environment this corresponds to a numpy array containing the positions and velocities of the lander as described in section [3.2 Observation Space](#3.2).\n",
    "\n",
    "\n",
    "* `reward` (**float**): amount of reward returned as a result of taking the given action. In the Lunar Lander environment this corresponds to a float of type `numpy.float64` as described in section [3.3 Rewards](#3.3).\n",
    "\n",
    "\n",
    "* `done` (**boolean**): When done is `True`, it indicates the episode has terminated and it’s time to reset the environment. \n",
    "\n",
    "\n",
    "* `info` (**dictionary**): diagnostic information useful for debugging. We won't be using this variable in this notebook but it is shown here for completeness.\n",
    "\n",
    "To begin an episode, we need to reset the environment to an initial state. We do this by using the `.reset()` method. "
   ]
  },
  {
   "cell_type": "code",
   "execution_count": 27,
   "metadata": {
    "deletable": false,
    "editable": false
   },
   "outputs": [],
   "source": [
    "# Reset the environment and get the initial state.\n",
    "current_state = env.reset()"
   ]
  },
  {
   "cell_type": "markdown",
   "metadata": {},
   "source": [
    "Once the environment is reset, the agent can start taking actions in the environment by using the `.step()` method. Note that the agent can only take one action per time step. \n",
    "\n",
    "In the cell below you can select different actions and see how the returned values change depending on the action taken. Remember that in this environment the agent has four discrete actions available and we specify them in code by using their corresponding numerical value:\n",
    "\n",
    "```python\n",
    "Do nothing = 0\n",
    "Fire right engine = 1\n",
    "Fire main engine = 2\n",
    "Fire left engine = 3\n",
    "```"
   ]
  },
  {
   "cell_type": "code",
   "execution_count": 28,
   "metadata": {
    "deletable": false
   },
   "outputs": [
    {
     "data": {
      "text/html": [
       "<style  type=\"text/css\" >\n",
       "    #T_1d8486dc_f948_11ee_aec0_0242ac12000a th {\n",
       "          border: 1px solid grey;\n",
       "          text-align: center;\n",
       "    }    #T_1d8486dc_f948_11ee_aec0_0242ac12000a tbody td {\n",
       "          border: 1px solid grey;\n",
       "          text-align: center;\n",
       "    }    #T_1d8486dc_f948_11ee_aec0_0242ac12000arow0_col0 {\n",
       "            background-color :  grey;\n",
       "        }    #T_1d8486dc_f948_11ee_aec0_0242ac12000arow1_col1 {\n",
       "            background-color :  grey;\n",
       "        }    #T_1d8486dc_f948_11ee_aec0_0242ac12000arow1_col2 {\n",
       "            background-color :  grey;\n",
       "        }    #T_1d8486dc_f948_11ee_aec0_0242ac12000arow1_col3 {\n",
       "            background-color :  grey;\n",
       "        }    #T_1d8486dc_f948_11ee_aec0_0242ac12000arow1_col4 {\n",
       "            background-color :  grey;\n",
       "        }    #T_1d8486dc_f948_11ee_aec0_0242ac12000arow1_col5 {\n",
       "            background-color :  grey;\n",
       "        }    #T_1d8486dc_f948_11ee_aec0_0242ac12000arow1_col6 {\n",
       "            background-color :  grey;\n",
       "        }    #T_1d8486dc_f948_11ee_aec0_0242ac12000arow1_col7 {\n",
       "            background-color :  grey;\n",
       "        }    #T_1d8486dc_f948_11ee_aec0_0242ac12000arow1_col8 {\n",
       "            background-color :  grey;\n",
       "        }    #T_1d8486dc_f948_11ee_aec0_0242ac12000arow1_col9 {\n",
       "            background-color :  grey;\n",
       "        }    #T_1d8486dc_f948_11ee_aec0_0242ac12000arow1_col10 {\n",
       "            background-color :  grey;\n",
       "        }    #T_1d8486dc_f948_11ee_aec0_0242ac12000arow1_col11 {\n",
       "            background-color :  grey;\n",
       "        }    #T_1d8486dc_f948_11ee_aec0_0242ac12000arow2_col0 {\n",
       "            background-color :  grey;\n",
       "        }    #T_1d8486dc_f948_11ee_aec0_0242ac12000arow3_col1 {\n",
       "            background-color :  grey;\n",
       "        }    #T_1d8486dc_f948_11ee_aec0_0242ac12000arow3_col2 {\n",
       "            background-color :  grey;\n",
       "        }    #T_1d8486dc_f948_11ee_aec0_0242ac12000arow3_col3 {\n",
       "            background-color :  grey;\n",
       "        }    #T_1d8486dc_f948_11ee_aec0_0242ac12000arow3_col4 {\n",
       "            background-color :  grey;\n",
       "        }    #T_1d8486dc_f948_11ee_aec0_0242ac12000arow3_col5 {\n",
       "            background-color :  grey;\n",
       "        }    #T_1d8486dc_f948_11ee_aec0_0242ac12000arow3_col6 {\n",
       "            background-color :  grey;\n",
       "        }    #T_1d8486dc_f948_11ee_aec0_0242ac12000arow3_col7 {\n",
       "            background-color :  grey;\n",
       "        }    #T_1d8486dc_f948_11ee_aec0_0242ac12000arow3_col8 {\n",
       "            background-color :  grey;\n",
       "        }    #T_1d8486dc_f948_11ee_aec0_0242ac12000arow3_col9 {\n",
       "            background-color :  grey;\n",
       "        }    #T_1d8486dc_f948_11ee_aec0_0242ac12000arow3_col10 {\n",
       "            background-color :  grey;\n",
       "        }    #T_1d8486dc_f948_11ee_aec0_0242ac12000arow3_col11 {\n",
       "            background-color :  grey;\n",
       "        }    #T_1d8486dc_f948_11ee_aec0_0242ac12000arow4_col1 {\n",
       "            background-color :  grey;\n",
       "        }    #T_1d8486dc_f948_11ee_aec0_0242ac12000arow4_col2 {\n",
       "            background-color :  grey;\n",
       "        }    #T_1d8486dc_f948_11ee_aec0_0242ac12000arow4_col3 {\n",
       "            background-color :  grey;\n",
       "        }    #T_1d8486dc_f948_11ee_aec0_0242ac12000arow4_col4 {\n",
       "            background-color :  grey;\n",
       "        }    #T_1d8486dc_f948_11ee_aec0_0242ac12000arow4_col5 {\n",
       "            background-color :  grey;\n",
       "        }    #T_1d8486dc_f948_11ee_aec0_0242ac12000arow4_col6 {\n",
       "            background-color :  grey;\n",
       "        }    #T_1d8486dc_f948_11ee_aec0_0242ac12000arow4_col7 {\n",
       "            background-color :  grey;\n",
       "        }    #T_1d8486dc_f948_11ee_aec0_0242ac12000arow4_col8 {\n",
       "            background-color :  grey;\n",
       "        }    #T_1d8486dc_f948_11ee_aec0_0242ac12000arow4_col9 {\n",
       "            background-color :  grey;\n",
       "        }    #T_1d8486dc_f948_11ee_aec0_0242ac12000arow4_col10 {\n",
       "            background-color :  grey;\n",
       "        }    #T_1d8486dc_f948_11ee_aec0_0242ac12000arow4_col11 {\n",
       "            background-color :  grey;\n",
       "        }</style><table id=\"T_1d8486dc_f948_11ee_aec0_0242ac12000a\" ><thead>    <tr>        <th class=\"blank level0\" ></th>        <th class=\"col_heading level0 col0\" ></th>        <th class=\"col_heading level0 col1\" colspan=8>State Vector</th>        <th class=\"col_heading level0 col9\" colspan=3>Derived from the State Vector (the closer to zero, the better)</th>    </tr>    <tr>        <th class=\"blank level1\" ></th>        <th class=\"col_heading level1 col0\" ></th>        <th class=\"col_heading level1 col1\" colspan=2>Coordinate</th>        <th class=\"col_heading level1 col3\" colspan=2>Velocity</th>        <th class=\"col_heading level1 col5\" colspan=2>Tilting</th>        <th class=\"col_heading level1 col7\" colspan=2>Ground contact</th>        <th class=\"col_heading level1 col9\" >Distance from landing pad</th>        <th class=\"col_heading level1 col10\" >Velocity</th>        <th class=\"col_heading level1 col11\" >Tilting Angle (absolute value)</th>    </tr>    <tr>        <th class=\"blank level2\" ></th>        <th class=\"col_heading level2 col0\" ></th>        <th class=\"col_heading level2 col1\" >X (Horizontal)</th>        <th class=\"col_heading level2 col2\" >Y (Vertical)</th>        <th class=\"col_heading level2 col3\" >X (Horizontal)</th>        <th class=\"col_heading level2 col4\" >Y (Vertical)</th>        <th class=\"col_heading level2 col5\" >Angle</th>        <th class=\"col_heading level2 col6\" >Angular Velocity</th>        <th class=\"col_heading level2 col7\" >Left Leg?</th>        <th class=\"col_heading level2 col8\" >Right Leg?</th>        <th class=\"col_heading level2 col9\" ></th>        <th class=\"col_heading level2 col10\" ></th>        <th class=\"col_heading level2 col11\" ></th>    </tr></thead><tbody>\n",
       "                <tr>\n",
       "                        <th id=\"T_1d8486dc_f948_11ee_aec0_0242ac12000alevel0_row0\" class=\"row_heading level0 row0\" >Current State</th>\n",
       "                        <td id=\"T_1d8486dc_f948_11ee_aec0_0242ac12000arow0_col0\" class=\"data row0 col0\" ></td>\n",
       "                        <td id=\"T_1d8486dc_f948_11ee_aec0_0242ac12000arow0_col1\" class=\"data row0 col1\" >0.001919</td>\n",
       "                        <td id=\"T_1d8486dc_f948_11ee_aec0_0242ac12000arow0_col2\" class=\"data row0 col2\" >1.422301</td>\n",
       "                        <td id=\"T_1d8486dc_f948_11ee_aec0_0242ac12000arow0_col3\" class=\"data row0 col3\" >0.194400</td>\n",
       "                        <td id=\"T_1d8486dc_f948_11ee_aec0_0242ac12000arow0_col4\" class=\"data row0 col4\" >0.505814</td>\n",
       "                        <td id=\"T_1d8486dc_f948_11ee_aec0_0242ac12000arow0_col5\" class=\"data row0 col5\" >-0.002217</td>\n",
       "                        <td id=\"T_1d8486dc_f948_11ee_aec0_0242ac12000arow0_col6\" class=\"data row0 col6\" >-0.044034</td>\n",
       "                        <td id=\"T_1d8486dc_f948_11ee_aec0_0242ac12000arow0_col7\" class=\"data row0 col7\" >False</td>\n",
       "                        <td id=\"T_1d8486dc_f948_11ee_aec0_0242ac12000arow0_col8\" class=\"data row0 col8\" >False</td>\n",
       "                        <td id=\"T_1d8486dc_f948_11ee_aec0_0242ac12000arow0_col9\" class=\"data row0 col9\" >1.422302</td>\n",
       "                        <td id=\"T_1d8486dc_f948_11ee_aec0_0242ac12000arow0_col10\" class=\"data row0 col10\" >0.541885</td>\n",
       "                        <td id=\"T_1d8486dc_f948_11ee_aec0_0242ac12000arow0_col11\" class=\"data row0 col11\" >0.002217</td>\n",
       "            </tr>\n",
       "            <tr>\n",
       "                        <th id=\"T_1d8486dc_f948_11ee_aec0_0242ac12000alevel0_row1\" class=\"row_heading level0 row1\" >Action</th>\n",
       "                        <td id=\"T_1d8486dc_f948_11ee_aec0_0242ac12000arow1_col0\" class=\"data row1 col0\" >Do nothing</td>\n",
       "                        <td id=\"T_1d8486dc_f948_11ee_aec0_0242ac12000arow1_col1\" class=\"data row1 col1\" ></td>\n",
       "                        <td id=\"T_1d8486dc_f948_11ee_aec0_0242ac12000arow1_col2\" class=\"data row1 col2\" ></td>\n",
       "                        <td id=\"T_1d8486dc_f948_11ee_aec0_0242ac12000arow1_col3\" class=\"data row1 col3\" ></td>\n",
       "                        <td id=\"T_1d8486dc_f948_11ee_aec0_0242ac12000arow1_col4\" class=\"data row1 col4\" ></td>\n",
       "                        <td id=\"T_1d8486dc_f948_11ee_aec0_0242ac12000arow1_col5\" class=\"data row1 col5\" ></td>\n",
       "                        <td id=\"T_1d8486dc_f948_11ee_aec0_0242ac12000arow1_col6\" class=\"data row1 col6\" ></td>\n",
       "                        <td id=\"T_1d8486dc_f948_11ee_aec0_0242ac12000arow1_col7\" class=\"data row1 col7\" ></td>\n",
       "                        <td id=\"T_1d8486dc_f948_11ee_aec0_0242ac12000arow1_col8\" class=\"data row1 col8\" ></td>\n",
       "                        <td id=\"T_1d8486dc_f948_11ee_aec0_0242ac12000arow1_col9\" class=\"data row1 col9\" ></td>\n",
       "                        <td id=\"T_1d8486dc_f948_11ee_aec0_0242ac12000arow1_col10\" class=\"data row1 col10\" ></td>\n",
       "                        <td id=\"T_1d8486dc_f948_11ee_aec0_0242ac12000arow1_col11\" class=\"data row1 col11\" ></td>\n",
       "            </tr>\n",
       "            <tr>\n",
       "                        <th id=\"T_1d8486dc_f948_11ee_aec0_0242ac12000alevel0_row2\" class=\"row_heading level0 row2\" >Next State</th>\n",
       "                        <td id=\"T_1d8486dc_f948_11ee_aec0_0242ac12000arow2_col0\" class=\"data row2 col0\" ></td>\n",
       "                        <td id=\"T_1d8486dc_f948_11ee_aec0_0242ac12000arow2_col1\" class=\"data row2 col1\" >0.003839</td>\n",
       "                        <td id=\"T_1d8486dc_f948_11ee_aec0_0242ac12000arow2_col2\" class=\"data row2 col2\" >1.433103</td>\n",
       "                        <td id=\"T_1d8486dc_f948_11ee_aec0_0242ac12000arow2_col3\" class=\"data row2 col3\" >0.194137</td>\n",
       "                        <td id=\"T_1d8486dc_f948_11ee_aec0_0242ac12000arow2_col4\" class=\"data row2 col4\" >0.480094</td>\n",
       "                        <td id=\"T_1d8486dc_f948_11ee_aec0_0242ac12000arow2_col5\" class=\"data row2 col5\" >-0.004393</td>\n",
       "                        <td id=\"T_1d8486dc_f948_11ee_aec0_0242ac12000arow2_col6\" class=\"data row2 col6\" >-0.043519</td>\n",
       "                        <td id=\"T_1d8486dc_f948_11ee_aec0_0242ac12000arow2_col7\" class=\"data row2 col7\" >False</td>\n",
       "                        <td id=\"T_1d8486dc_f948_11ee_aec0_0242ac12000arow2_col8\" class=\"data row2 col8\" >False</td>\n",
       "                        <td id=\"T_1d8486dc_f948_11ee_aec0_0242ac12000arow2_col9\" class=\"data row2 col9\" >1.433108</td>\n",
       "                        <td id=\"T_1d8486dc_f948_11ee_aec0_0242ac12000arow2_col10\" class=\"data row2 col10\" >0.517860</td>\n",
       "                        <td id=\"T_1d8486dc_f948_11ee_aec0_0242ac12000arow2_col11\" class=\"data row2 col11\" >0.004393</td>\n",
       "            </tr>\n",
       "            <tr>\n",
       "                        <th id=\"T_1d8486dc_f948_11ee_aec0_0242ac12000alevel0_row3\" class=\"row_heading level0 row3\" >Reward</th>\n",
       "                        <td id=\"T_1d8486dc_f948_11ee_aec0_0242ac12000arow3_col0\" class=\"data row3 col0\" >1.104326</td>\n",
       "                        <td id=\"T_1d8486dc_f948_11ee_aec0_0242ac12000arow3_col1\" class=\"data row3 col1\" ></td>\n",
       "                        <td id=\"T_1d8486dc_f948_11ee_aec0_0242ac12000arow3_col2\" class=\"data row3 col2\" ></td>\n",
       "                        <td id=\"T_1d8486dc_f948_11ee_aec0_0242ac12000arow3_col3\" class=\"data row3 col3\" ></td>\n",
       "                        <td id=\"T_1d8486dc_f948_11ee_aec0_0242ac12000arow3_col4\" class=\"data row3 col4\" ></td>\n",
       "                        <td id=\"T_1d8486dc_f948_11ee_aec0_0242ac12000arow3_col5\" class=\"data row3 col5\" ></td>\n",
       "                        <td id=\"T_1d8486dc_f948_11ee_aec0_0242ac12000arow3_col6\" class=\"data row3 col6\" ></td>\n",
       "                        <td id=\"T_1d8486dc_f948_11ee_aec0_0242ac12000arow3_col7\" class=\"data row3 col7\" ></td>\n",
       "                        <td id=\"T_1d8486dc_f948_11ee_aec0_0242ac12000arow3_col8\" class=\"data row3 col8\" ></td>\n",
       "                        <td id=\"T_1d8486dc_f948_11ee_aec0_0242ac12000arow3_col9\" class=\"data row3 col9\" ></td>\n",
       "                        <td id=\"T_1d8486dc_f948_11ee_aec0_0242ac12000arow3_col10\" class=\"data row3 col10\" ></td>\n",
       "                        <td id=\"T_1d8486dc_f948_11ee_aec0_0242ac12000arow3_col11\" class=\"data row3 col11\" ></td>\n",
       "            </tr>\n",
       "            <tr>\n",
       "                        <th id=\"T_1d8486dc_f948_11ee_aec0_0242ac12000alevel0_row4\" class=\"row_heading level0 row4\" >Episode Terminated</th>\n",
       "                        <td id=\"T_1d8486dc_f948_11ee_aec0_0242ac12000arow4_col0\" class=\"data row4 col0\" >False</td>\n",
       "                        <td id=\"T_1d8486dc_f948_11ee_aec0_0242ac12000arow4_col1\" class=\"data row4 col1\" ></td>\n",
       "                        <td id=\"T_1d8486dc_f948_11ee_aec0_0242ac12000arow4_col2\" class=\"data row4 col2\" ></td>\n",
       "                        <td id=\"T_1d8486dc_f948_11ee_aec0_0242ac12000arow4_col3\" class=\"data row4 col3\" ></td>\n",
       "                        <td id=\"T_1d8486dc_f948_11ee_aec0_0242ac12000arow4_col4\" class=\"data row4 col4\" ></td>\n",
       "                        <td id=\"T_1d8486dc_f948_11ee_aec0_0242ac12000arow4_col5\" class=\"data row4 col5\" ></td>\n",
       "                        <td id=\"T_1d8486dc_f948_11ee_aec0_0242ac12000arow4_col6\" class=\"data row4 col6\" ></td>\n",
       "                        <td id=\"T_1d8486dc_f948_11ee_aec0_0242ac12000arow4_col7\" class=\"data row4 col7\" ></td>\n",
       "                        <td id=\"T_1d8486dc_f948_11ee_aec0_0242ac12000arow4_col8\" class=\"data row4 col8\" ></td>\n",
       "                        <td id=\"T_1d8486dc_f948_11ee_aec0_0242ac12000arow4_col9\" class=\"data row4 col9\" ></td>\n",
       "                        <td id=\"T_1d8486dc_f948_11ee_aec0_0242ac12000arow4_col10\" class=\"data row4 col10\" ></td>\n",
       "                        <td id=\"T_1d8486dc_f948_11ee_aec0_0242ac12000arow4_col11\" class=\"data row4 col11\" ></td>\n",
       "            </tr>\n",
       "    </tbody></table>"
      ],
      "text/plain": [
       "<pandas.io.formats.style.Styler at 0x7768f54cffd0>"
      ]
     },
     "metadata": {},
     "output_type": "display_data"
    }
   ],
   "source": [
    "# Select an action\n",
    "action = 0\n",
    "\n",
    "# Run a single time step of the environment's dynamics with the given action.\n",
    "next_state, reward, done, _ = env.step(action)\n",
    "\n",
    "# Display table with values.\n",
    "utils.display_table(current_state, action, next_state, reward, done)\n",
    "\n",
    "# Replace the `current_state` with the state after the action is taken\n",
    "current_state = next_state"
   ]
  },
  {
   "cell_type": "markdown",
   "metadata": {},
   "source": [
    "In practice, when we train the agent we use a loop to allow the agent to take many consecutive actions during an episode."
   ]
  },
  {
   "cell_type": "markdown",
   "metadata": {},
   "source": [
    "<a name=\"6\"></a>\n",
    "## 6 - Deep Q-Learning\n",
    "\n",
    "In cases where both the state and action space are discrete we can estimate the action-value function iteratively by using the Bellman equation:\n",
    "\n",
    "$$\n",
    "Q_{i+1}(s,a) = R + \\gamma \\max_{a'}Q_i(s',a')\n",
    "$$\n",
    "\n",
    "This iterative method converges to the optimal action-value function $Q^*(s,a)$ as $i\\to\\infty$. This means that the agent just needs to gradually explore the state-action space and keep updating the estimate of $Q(s,a)$ until it converges to the optimal action-value function $Q^*(s,a)$. However, in cases where the state space is continuous it becomes practically impossible to explore the entire state-action space. Consequently, this also makes it practically impossible to gradually estimate $Q(s,a)$ until it converges to $Q^*(s,a)$.\n",
    "\n",
    "In the Deep $Q$-Learning, we solve this problem by using a neural network to estimate the action-value function $Q(s,a)\\approx Q^*(s,a)$. We call this neural network a $Q$-Network and it can be trained by adjusting its weights at each iteration to minimize the mean-squared error in the Bellman equation.\n",
    "\n",
    "Unfortunately, using neural networks in reinforcement learning to estimate action-value functions has proven to be highly unstable. Luckily, there's a couple of techniques that can be employed to avoid instabilities. These techniques consist of using a ***Target Network*** and ***Experience Replay***. We will explore these two techniques in the following sections."
   ]
  },
  {
   "cell_type": "markdown",
   "metadata": {},
   "source": [
    "<a name=\"6.1\"></a>\n",
    "### 6.1 Target Network\n",
    "\n",
    "We can train the $Q$-Network by adjusting it's weights at each iteration to minimize the mean-squared error in the Bellman equation, where the target values are given by:\n",
    "\n",
    "$$\n",
    "y = R + \\gamma \\max_{a'}Q(s',a';w)\n",
    "$$\n",
    "\n",
    "where $w$ are the weights of the $Q$-Network. This means that we are adjusting the weights $w$ at each iteration to minimize the following error:\n",
    "\n",
    "$$\n",
    "\\overbrace{\\underbrace{R + \\gamma \\max_{a'}Q(s',a'; w)}_{\\rm {y~target}} - Q(s,a;w)}^{\\rm {Error}}\n",
    "$$\n",
    "\n",
    "Notice that this forms a problem because the $y$ target is changing on every iteration. Having a constantly moving target can lead to oscillations and instabilities. To avoid this, we can create\n",
    "a separate neural network for generating the $y$ targets. We call this separate neural network the **target $\\hat Q$-Network** and it will have the same architecture as the original $Q$-Network. By using the target $\\hat Q$-Network, the above error becomes:\n",
    "\n",
    "$$\n",
    "\\overbrace{\\underbrace{R + \\gamma \\max_{a'}\\hat{Q}(s',a'; w^-)}_{\\rm {y~target}} - Q(s,a;w)}^{\\rm {Error}}\n",
    "$$\n",
    "\n",
    "where $w^-$ and $w$ are the weights of the target $\\hat Q$-Network and $Q$-Network, respectively.\n",
    "\n",
    "In practice, we will use the following algorithm: every $C$ time steps we will use the $\\hat Q$-Network to generate the $y$ targets and update the weights of the target $\\hat Q$-Network using the weights of the $Q$-Network. We will update the weights $w^-$ of the the target $\\hat Q$-Network using a **soft update**. This means that we will update the weights $w^-$ using the following rule:\n",
    " \n",
    "$$\n",
    "w^-\\leftarrow \\tau w + (1 - \\tau) w^-\n",
    "$$\n",
    "\n",
    "where $\\tau\\ll 1$. By using the soft update, we are ensuring that the target values, $y$, change slowly, which greatly improves the stability of our learning algorithm."
   ]
  },
  {
   "cell_type": "markdown",
   "metadata": {},
   "source": [
    "<a name=\"ex01\"></a>\n",
    "### Exercise 1\n",
    "\n",
    "In this exercise you will create the $Q$ and target $\\hat Q$ networks and set the optimizer. Remember that the Deep $Q$-Network (DQN) is a neural network that approximates the action-value function $Q(s,a)\\approx Q^*(s,a)$. It does this by learning how to map states to $Q$ values.\n",
    "\n",
    "To solve the Lunar Lander environment, we are going to employ a DQN with the following architecture:\n",
    "\n",
    "* An `Input` layer that takes `state_size` as input.\n",
    "\n",
    "* A `Dense` layer with `64` units and a `relu` activation function.\n",
    "\n",
    "* A `Dense` layer with `64` units and a `relu` activation function.\n",
    "\n",
    "* A `Dense` layer with `num_actions` units and a `linear` activation function. This will be the output layer of our network.\n",
    "\n",
    "\n",
    "In the cell below you should create the $Q$-Network and the target $\\hat Q$-Network using the model architecture described above. Remember that both the $Q$-Network and the target $\\hat Q$-Network have the same architecture.\n",
    "\n",
    "Lastly, you should set `Adam` as the optimizer with a learning rate equal to `ALPHA`. Recall that `ALPHA` was defined in the [Hyperparameters](#2) section. We should note that for this exercise you should use the already imported packages:\n",
    "```python\n",
    "from tensorflow.keras.layers import Dense, Input\n",
    "from tensorflow.keras.optimizers import Adam\n",
    "```"
   ]
  },
  {
   "cell_type": "code",
   "execution_count": 29,
   "metadata": {
    "deletable": false
   },
   "outputs": [],
   "source": [
    "# UNQ_C1\n",
    "# GRADED CELL\n",
    "\n",
    "# Create the Q-Network\n",
    "q_network = Sequential([\n",
    "    ### START CODE HERE ### \n",
    "    Input(shape=state_size),\n",
    "    Dense(64, activation='relu'),\n",
    "    Dense(64, activation='relu'),\n",
    "    Dense(num_actions, activation='linear'),\n",
    "    ### END CODE HERE ### \n",
    "    ])\n",
    "\n",
    "# Create the target Q^-Network\n",
    "target_q_network = Sequential([\n",
    "    ### START CODE HERE ### \n",
    "    Input(shape=state_size),\n",
    "    Dense(64, activation='relu'),\n",
    "    Dense(64, activation='relu'),\n",
    "    Dense(num_actions, activation='linear'),\n",
    "    ### END CODE HERE ###\n",
    "    ])\n",
    "\n",
    "### START CODE HERE ### \n",
    "optimizer = Adam(learning_rate=ALPHA)\n",
    "### END CODE HERE ###"
   ]
  },
  {
   "cell_type": "code",
   "execution_count": 30,
   "metadata": {
    "deletable": false,
    "editable": false
   },
   "outputs": [
    {
     "name": "stdout",
     "output_type": "stream",
     "text": [
      "\u001b[92mAll tests passed!\n",
      "\u001b[92mAll tests passed!\n",
      "\u001b[92mAll tests passed!\n"
     ]
    }
   ],
   "source": [
    "# UNIT TEST\n",
    "from public_tests import *\n",
    "\n",
    "test_network(q_network)\n",
    "test_network(target_q_network)\n",
    "test_optimizer(optimizer, ALPHA) "
   ]
  },
  {
   "cell_type": "markdown",
   "metadata": {},
   "source": [
    "<details>\n",
    "  <summary><font size=\"3\" color=\"darkgreen\"><b>Click for hints</b></font></summary>\n",
    "    \n",
    "```python\n",
    "# Create the Q-Network\n",
    "q_network = Sequential([\n",
    "    Input(shape=state_size),                      \n",
    "    Dense(units=64, activation='relu'),            \n",
    "    Dense(units=64, activation='relu'),            \n",
    "    Dense(units=num_actions, activation='linear'),\n",
    "    ])\n",
    "\n",
    "# Create the target Q^-Network\n",
    "target_q_network = Sequential([\n",
    "    Input(shape=state_size),                       \n",
    "    Dense(units=64, activation='relu'),            \n",
    "    Dense(units=64, activation='relu'),            \n",
    "    Dense(units=num_actions, activation='linear'), \n",
    "    ])\n",
    "\n",
    "optimizer = Adam(learning_rate=ALPHA)                                  \n",
    "``` "
   ]
  },
  {
   "cell_type": "markdown",
   "metadata": {},
   "source": [
    "<a name=\"6.2\"></a>\n",
    "### 6.2 Experience Replay\n",
    "\n",
    "When an agent interacts with the environment, the states, actions, and rewards the agent experiences are sequential by nature. If the agent tries to learn from these consecutive experiences it can run into problems due to the strong correlations between them. To avoid this, we employ a technique known as **Experience Replay** to generate uncorrelated experiences for training our agent. Experience replay consists of storing the agent's experiences (i.e the states, actions, and rewards the agent receives) in a memory buffer and then sampling a random mini-batch of experiences from the buffer to do the learning. The experience tuples $(S_t, A_t, R_t, S_{t+1})$ will be added to the memory buffer at each time step as the agent interacts with the environment.\n",
    "\n",
    "For convenience, we will store the experiences as named tuples."
   ]
  },
  {
   "cell_type": "code",
   "execution_count": 31,
   "metadata": {
    "deletable": false,
    "editable": false
   },
   "outputs": [],
   "source": [
    "# Store experiences as named tuples\n",
    "experience = namedtuple(\"Experience\", field_names=[\"state\", \"action\", \"reward\", \"next_state\", \"done\"])"
   ]
  },
  {
   "cell_type": "markdown",
   "metadata": {},
   "source": [
    "By using experience replay we avoid problematic correlations, oscillations and instabilities. In addition, experience replay also allows the agent to potentially use the same experience in multiple weight updates, which increases data efficiency."
   ]
  },
  {
   "cell_type": "markdown",
   "metadata": {},
   "source": [
    "<a name=\"7\"></a>\n",
    "## 7 - Deep Q-Learning Algorithm with Experience Replay\n",
    "\n",
    "Now that we know all the techniques that we are going to use, we can put them together to arrive at the Deep Q-Learning Algorithm With Experience Replay.\n",
    "<br>\n",
    "<br>\n",
    "<figure>\n",
    "  <img src = \"images/deep_q_algorithm.png\" width = 90% style = \"border: thin silver solid; padding: 0px\">\n",
    "      <figcaption style = \"text-align: center; font-style: italic\">Fig 3. Deep Q-Learning with Experience Replay.</figcaption>\n",
    "</figure>"
   ]
  },
  {
   "cell_type": "markdown",
   "metadata": {},
   "source": [
    "<a name=\"ex02\"></a>\n",
    "### Exercise 2\n",
    "\n",
    "In this exercise you will implement line ***12*** of the algorithm outlined in *Fig 3* above and you will also compute the loss between the $y$ targets and the $Q(s,a)$ values. In the cell below, complete the `compute_loss` function by setting the $y$ targets equal to:\n",
    "\n",
    "$$\n",
    "\\begin{equation}\n",
    "    y_j =\n",
    "    \\begin{cases}\n",
    "      R_j & \\text{if episode terminates at step  } j+1\\\\\n",
    "      R_j + \\gamma \\max_{a'}\\hat{Q}(s_{j+1},a') & \\text{otherwise}\\\\\n",
    "    \\end{cases}       \n",
    "\\end{equation}\n",
    "$$\n",
    "\n",
    "Here are a couple of things to note:\n",
    "\n",
    "* The `compute_loss` function takes in a mini-batch of experience tuples. This mini-batch of experience tuples is unpacked to extract the `states`, `actions`, `rewards`, `next_states`, and `done_vals`. You should keep in mind that these variables are *TensorFlow Tensors* whose size will depend on the mini-batch size. For example, if the mini-batch size is `64` then both `rewards` and `done_vals` will be TensorFlow Tensors with `64` elements.\n",
    "\n",
    "\n",
    "* Using `if/else` statements to set the $y$ targets will not work when the variables are tensors with many elements. However, notice that you can use the `done_vals` to implement the above in a single line of code. To do this, recall that the `done` variable is a Boolean variable that takes the value `True` when an episode terminates at step $j+1$ and it is `False` otherwise. Taking into account that a Boolean value of `True` has the numerical value of `1` and a Boolean value of `False` has the numerical value of `0`, you can use the factor `(1 - done_vals)` to implement the above in a single line of code. Here's a hint: notice that `(1 - done_vals)` has a value of `0` when `done_vals` is `True` and a value of `1` when `done_vals` is `False`. \n",
    "\n",
    "Lastly, compute the loss by calculating the Mean-Squared Error (`MSE`) between the `y_targets` and the `q_values`. To calculate the mean-squared error you should use the already imported package `MSE`:\n",
    "```python\n",
    "from tensorflow.keras.losses import MSE\n",
    "```"
   ]
  },
  {
   "cell_type": "code",
   "execution_count": 32,
   "metadata": {
    "deletable": false
   },
   "outputs": [],
   "source": [
    "# UNQ_C2\n",
    "# GRADED FUNCTION: calculate_loss\n",
    "\n",
    "def compute_loss(experiences, gamma, q_network, target_q_network):\n",
    "    \"\"\" \n",
    "    Calculates the loss.\n",
    "    \n",
    "    Args:\n",
    "      experiences: (tuple) tuple of [\"state\", \"action\", \"reward\", \"next_state\", \"done\"] namedtuples\n",
    "      gamma: (float) The discount factor.\n",
    "      q_network: (tf.keras.Sequential) Keras model for predicting the q_values\n",
    "      target_q_network: (tf.keras.Sequential) Keras model for predicting the targets\n",
    "          \n",
    "    Returns:\n",
    "      loss: (TensorFlow Tensor(shape=(0,), dtype=int32)) the Mean-Squared Error between\n",
    "            the y targets and the Q(s,a) values.\n",
    "    \"\"\"\n",
    "\n",
    "    # Unpack the mini-batch of experience tuples\n",
    "    states, actions, rewards, next_states, done_vals = experiences\n",
    "    \n",
    "    # Compute max Q^(s,a)\n",
    "    max_qsa = tf.reduce_max(target_q_network(next_states), axis=-1)\n",
    "    \n",
    "    # Set y = R if episode terminates, otherwise set y = R + γ max Q^(s,a).\n",
    "    ### START CODE HERE ### \n",
    "    y_targets = rewards + (gamma * max_qsa * (1 - done_vals))\n",
    "    ### END CODE HERE ###\n",
    "    \n",
    "    # Get the q_values and reshape to match y_targets\n",
    "    q_values = q_network(states)\n",
    "    q_values = tf.gather_nd(q_values, tf.stack([tf.range(q_values.shape[0]),\n",
    "                                                tf.cast(actions, tf.int32)], axis=1))\n",
    "        \n",
    "    # Compute the loss\n",
    "    ### START CODE HERE ### \n",
    "    loss = MSE(y_targets, q_values) \n",
    "    ### END CODE HERE ### \n",
    "    \n",
    "    return loss"
   ]
  },
  {
   "cell_type": "code",
   "execution_count": 33,
   "metadata": {
    "deletable": false,
    "editable": false
   },
   "outputs": [
    {
     "name": "stdout",
     "output_type": "stream",
     "text": [
      "\u001b[92mAll tests passed!\n"
     ]
    }
   ],
   "source": [
    "# UNIT TEST    \n",
    "test_compute_loss(compute_loss)"
   ]
  },
  {
   "cell_type": "markdown",
   "metadata": {},
   "source": [
    "<details>\n",
    "  <summary><font size=\"3\" color=\"darkgreen\"><b>Click for hints</b></font></summary>\n",
    "    \n",
    "```python\n",
    "def compute_loss(experiences, gamma, q_network, target_q_network):\n",
    "    \"\"\" \n",
    "    Calculates the loss.\n",
    "    \n",
    "    Args:\n",
    "      experiences: (tuple) tuple of [\"state\", \"action\", \"reward\", \"next_state\", \"done\"] namedtuples\n",
    "      gamma: (float) The discount factor.\n",
    "      q_network: (tf.keras.Sequential) Keras model for predicting the q_values\n",
    "      target_q_network: (tf.keras.Sequential) Keras model for predicting the targets\n",
    "          \n",
    "    Returns:\n",
    "      loss: (TensorFlow Tensor(shape=(0,), dtype=int32)) the Mean-Squared Error between\n",
    "            the y targets and the Q(s,a) values.\n",
    "    \"\"\"\n",
    "\n",
    "    \n",
    "    # Unpack the mini-batch of experience tuples\n",
    "    states, actions, rewards, next_states, done_vals = experiences\n",
    "    \n",
    "    # Compute max Q^(s,a)\n",
    "    max_qsa = tf.reduce_max(target_q_network(next_states), axis=-1)\n",
    "    \n",
    "    # Set y = R if episode terminates, otherwise set y = R + γ max Q^(s,a).\n",
    "    y_targets = rewards + (gamma * max_qsa * (1 - done_vals))\n",
    "    \n",
    "    # Get the q_values\n",
    "    q_values = q_network(states)\n",
    "    q_values = tf.gather_nd(q_values, tf.stack([tf.range(q_values.shape[0]),\n",
    "                                                tf.cast(actions, tf.int32)], axis=1))\n",
    "    \n",
    "    # Calculate the loss\n",
    "    loss = MSE(y_targets, q_values)\n",
    "    \n",
    "    return loss\n",
    "\n",
    "``` \n",
    "    "
   ]
  },
  {
   "cell_type": "markdown",
   "metadata": {},
   "source": [
    "<a name=\"8\"></a>\n",
    "## 8 - Update the Network Weights\n",
    "\n",
    "We will use the `agent_learn` function below to implement lines ***12 -14*** of the algorithm outlined in [Fig 3](#7). The `agent_learn` function will update the weights of the $Q$ and target $\\hat Q$ networks using a custom training loop. Because we are using a custom training loop we need to retrieve the gradients via a `tf.GradientTape` instance, and then call `optimizer.apply_gradients()` to update the weights of our $Q$-Network. Note that we are also using the `@tf.function` decorator to increase performance. Without this decorator our training will take twice as long. If you would like to know more about how to increase performance with `@tf.function` take a look at the [TensorFlow documentation](https://www.tensorflow.org/guide/function).\n",
    "\n",
    "The last line of this function updates the weights of the target $\\hat Q$-Network using a [soft update](#6.1). If you want to know how this is implemented in code we encourage you to take a look at the `utils.update_target_network` function in the `utils` module."
   ]
  },
  {
   "cell_type": "code",
   "execution_count": 34,
   "metadata": {
    "deletable": false,
    "editable": false
   },
   "outputs": [],
   "source": [
    "@tf.function\n",
    "def agent_learn(experiences, gamma):\n",
    "    \"\"\"\n",
    "    Updates the weights of the Q networks.\n",
    "    \n",
    "    Args:\n",
    "      experiences: (tuple) tuple of [\"state\", \"action\", \"reward\", \"next_state\", \"done\"] namedtuples\n",
    "      gamma: (float) The discount factor.\n",
    "    \n",
    "    \"\"\"\n",
    "    \n",
    "    # Calculate the loss\n",
    "    with tf.GradientTape() as tape:\n",
    "        loss = compute_loss(experiences, gamma, q_network, target_q_network)\n",
    "\n",
    "    # Get the gradients of the loss with respect to the weights.\n",
    "    gradients = tape.gradient(loss, q_network.trainable_variables)\n",
    "    \n",
    "    # Update the weights of the q_network.\n",
    "    optimizer.apply_gradients(zip(gradients, q_network.trainable_variables))\n",
    "\n",
    "    # update the weights of target q_network\n",
    "    utils.update_target_network(q_network, target_q_network)"
   ]
  },
  {
   "cell_type": "markdown",
   "metadata": {},
   "source": [
    "<a name=\"9\"></a>\n",
    "## 9 - Train the Agent\n",
    "\n",
    "We are now ready to train our agent to solve the Lunar Lander environment. In the cell below we will implement the algorithm in [Fig 3](#7) line by line (please note that we have included the same algorithm below for easy reference. This will prevent you from scrolling up and down the notebook):\n",
    "\n",
    "* **Line 1**: We initialize the `memory_buffer` with a capacity of $N =$ `MEMORY_SIZE`. Notice that we are using a `deque` as the data structure for our `memory_buffer`.\n",
    "\n",
    "\n",
    "* **Line 2**: We skip this line since we already initialized the `q_network` in [Exercise 1](#ex01).\n",
    "\n",
    "\n",
    "* **Line 3**: We initialize the `target_q_network` by setting its weights to be equal to those of the `q_network`.\n",
    "\n",
    "\n",
    "* **Line 4**: We start the outer loop. Notice that we have set $M =$ `num_episodes = 2000`. This number is reasonable because the agent should be able to solve the Lunar Lander environment in less than `2000` episodes using this notebook's default parameters.\n",
    "\n",
    "\n",
    "* **Line 5**: We use the `.reset()` method to reset the environment to the initial state and get the initial state.\n",
    "\n",
    "\n",
    "* **Line 6**: We start the inner loop. Notice that we have set $T =$ `max_num_timesteps = 1000`. This means that the episode will automatically terminate if the episode hasn't terminated after `1000` time steps.\n",
    "\n",
    "\n",
    "* **Line 7**: The agent observes the current `state` and chooses an `action` using an $\\epsilon$-greedy policy. Our agent starts out using a value of $\\epsilon =$ `epsilon = 1` which yields an $\\epsilon$-greedy policy that is equivalent to the equiprobable random policy. This means that at the beginning of our training, the agent is just going to take random actions regardless of the observed `state`. As training progresses we will decrease the value of $\\epsilon$ slowly towards a minimum value using a given $\\epsilon$-decay rate. We want this minimum value to be close to zero because a value of $\\epsilon = 0$ will yield an $\\epsilon$-greedy policy that is equivalent to the greedy policy. This means that towards the end of training, the agent will lean towards selecting the `action` that it believes (based on its past experiences) will maximize $Q(s,a)$. We will set the minimum $\\epsilon$ value to be `0.01` and not exactly 0 because we always want to keep a little bit of exploration during training. If you want to know how this is implemented in code we encourage you to take a look at the `utils.get_action` function in the `utils` module.\n",
    "\n",
    "\n",
    "* **Line 8**: We use the `.step()` method to take the given `action` in the environment and get the `reward` and the `next_state`. \n",
    "\n",
    "\n",
    "* **Line 9**: We store the `experience(state, action, reward, next_state, done)` tuple in our `memory_buffer`. Notice that we also store the `done` variable so that we can keep track of when an episode terminates. This allowed us to set the $y$ targets in [Exercise 2](#ex02).\n",
    "\n",
    "\n",
    "* **Line 10**: We check if the conditions are met to perform a learning update. We do this by using our custom `utils.check_update_conditions` function. This function checks if $C =$ `NUM_STEPS_FOR_UPDATE = 4` time steps have occured and if our `memory_buffer` has enough experience tuples to fill a mini-batch. For example, if the mini-batch size is `64`, then our `memory_buffer` should have more than `64` experience tuples in order to pass the latter condition. If the conditions are met, then the `utils.check_update_conditions` function will return a value of `True`, otherwise it will return a value of `False`.\n",
    "\n",
    "\n",
    "* **Lines 11 - 14**: If the `update` variable is `True` then we perform a learning update. The learning update consists of sampling a random mini-batch of experience tuples from our `memory_buffer`, setting the $y$ targets, performing gradient descent, and updating the weights of the networks. We will use the `agent_learn` function we defined in [Section 8](#8) to perform the latter 3.\n",
    "\n",
    "\n",
    "* **Line 15**: At the end of each iteration of the inner loop we set `next_state` as our new `state` so that the loop can start again from this new state. In addition, we check if the episode has reached a terminal state (i.e we check if `done = True`). If a terminal state has been reached, then we break out of the inner loop.\n",
    "\n",
    "\n",
    "* **Line 16**: At the end of each iteration of the outer loop we update the value of $\\epsilon$, and check if the environment has been solved. We consider that the environment has been solved if the agent receives an average of `200` points in the last `100` episodes. If the environment has not been solved we continue the outer loop and start a new episode.\n",
    "\n",
    "Finally, we wanted to note that we have included some extra variables to keep track of the total number of points the agent received in each episode. This will help us determine if the agent has solved the environment and it will also allow us to see how our agent performed during training. We also use the `time` module to measure how long the training takes. \n",
    "\n",
    "<br>\n",
    "<br>\n",
    "<figure>\n",
    "  <img src = \"images/deep_q_algorithm.png\" width = 90% style = \"border: thin silver solid; padding: 0px\">\n",
    "      <figcaption style = \"text-align: center; font-style: italic\">Fig 4. Deep Q-Learning with Experience Replay.</figcaption>\n",
    "</figure>\n",
    "<br>\n",
    "\n",
    "**Note:** With this notebook's default parameters, the following cell takes between 10 to 15 minutes to run. "
   ]
  },
  {
   "cell_type": "code",
   "execution_count": 35,
   "metadata": {
    "deletable": false,
    "editable": false
   },
   "outputs": [
    {
     "name": "stdout",
     "output_type": "stream",
     "text": [
      "Episode 100 | Total point average of the last 100 episodes: -137.43\n",
      "Episode 200 | Total point average of the last 100 episodes: -116.32\n",
      "Episode 300 | Total point average of the last 100 episodes: -69.412\n",
      "Episode 400 | Total point average of the last 100 episodes: 16.235\n",
      "Episode 500 | Total point average of the last 100 episodes: 128.78\n",
      "Episode 566 | Total point average of the last 100 episodes: 200.53\n",
      "\n",
      "Environment solved in 566 episodes!\n",
      "\n",
      "Total Runtime: 754.06 s (12.57 min)\n"
     ]
    }
   ],
   "source": [
    "start = time.time()\n",
    "\n",
    "num_episodes = 2000\n",
    "max_num_timesteps = 1000\n",
    "\n",
    "total_point_history = []\n",
    "\n",
    "num_p_av = 100    # number of total points to use for averaging\n",
    "epsilon = 1.0     # initial ε value for ε-greedy policy\n",
    "\n",
    "# Create a memory buffer D with capacity N\n",
    "memory_buffer = deque(maxlen=MEMORY_SIZE)\n",
    "\n",
    "# Set the target network weights equal to the Q-Network weights\n",
    "target_q_network.set_weights(q_network.get_weights())\n",
    "\n",
    "for i in range(num_episodes):\n",
    "    \n",
    "    # Reset the environment to the initial state and get the initial state\n",
    "    state = env.reset()\n",
    "    total_points = 0\n",
    "    \n",
    "    for t in range(max_num_timesteps):\n",
    "        \n",
    "        # From the current state S choose an action A using an ε-greedy policy\n",
    "        state_qn = np.expand_dims(state, axis=0)  # state needs to be the right shape for the q_network\n",
    "        q_values = q_network(state_qn)\n",
    "        action = utils.get_action(q_values, epsilon)\n",
    "        \n",
    "        # Take action A and receive reward R and the next state S'\n",
    "        next_state, reward, done, _ = env.step(action)\n",
    "        \n",
    "        # Store experience tuple (S,A,R,S') in the memory buffer.\n",
    "        # We store the done variable as well for convenience.\n",
    "        memory_buffer.append(experience(state, action, reward, next_state, done))\n",
    "        \n",
    "        # Only update the network every NUM_STEPS_FOR_UPDATE time steps.\n",
    "        update = utils.check_update_conditions(t, NUM_STEPS_FOR_UPDATE, memory_buffer)\n",
    "        \n",
    "        if update:\n",
    "            # Sample random mini-batch of experience tuples (S,A,R,S') from D\n",
    "            experiences = utils.get_experiences(memory_buffer)\n",
    "            \n",
    "            # Set the y targets, perform a gradient descent step,\n",
    "            # and update the network weights.\n",
    "            agent_learn(experiences, GAMMA)\n",
    "        \n",
    "        state = next_state.copy()\n",
    "        total_points += reward\n",
    "        \n",
    "        if done:\n",
    "            break\n",
    "            \n",
    "    total_point_history.append(total_points)\n",
    "    av_latest_points = np.mean(total_point_history[-num_p_av:])\n",
    "    \n",
    "    # Update the ε value\n",
    "    epsilon = utils.get_new_eps(epsilon)\n",
    "\n",
    "    print(f\"\\rEpisode {i+1} | Total point average of the last {num_p_av} episodes: {av_latest_points:.2f}\", end=\"\")\n",
    "\n",
    "    if (i+1) % num_p_av == 0:\n",
    "        print(f\"\\rEpisode {i+1} | Total point average of the last {num_p_av} episodes: {av_latest_points:.2f}\")\n",
    "\n",
    "    # We will consider that the environment is solved if we get an\n",
    "    # average of 200 points in the last 100 episodes.\n",
    "    if av_latest_points >= 200.0:\n",
    "        print(f\"\\n\\nEnvironment solved in {i+1} episodes!\")\n",
    "        q_network.save('lunar_lander_model.h5')\n",
    "        break\n",
    "        \n",
    "tot_time = time.time() - start\n",
    "\n",
    "print(f\"\\nTotal Runtime: {tot_time:.2f} s ({(tot_time/60):.2f} min)\")"
   ]
  },
  {
   "cell_type": "markdown",
   "metadata": {},
   "source": [
    "We can plot the total point history along with the moving average to see how our agent improved during training. If you want to know about the different plotting options available in the `utils.plot_history` function we encourage you to take a look at the `utils` module."
   ]
  },
  {
   "cell_type": "code",
   "execution_count": 36,
   "metadata": {
    "deletable": false,
    "editable": false,
    "id": "E_EUXxurfe8m",
    "scrolled": false
   },
   "outputs": [
    {
     "data": {
      "image/png": "[encoded data removed]",
      "text/plain": [
       "<Figure size 720x504 with 1 Axes>"
      ]
     },
     "metadata": {},
     "output_type": "display_data"
    }
   ],
   "source": [
    "# Plot the total point history along with the moving average\n",
    "utils.plot_history(total_point_history)"
   ]
  },
  {
   "cell_type": "markdown",
   "metadata": {
    "id": "c_xwgaX5MnYt"
   },
   "source": [
    "<a name=\"10\"></a>\n",
    "## 10 - See the Trained Agent In Action\n",
    "\n",
    "Now that we have trained our agent, we can see it in action. We will use the `utils.create_video` function to create a video of our agent interacting with the environment using the trained $Q$-Network. The `utils.create_video` function uses the `imageio` library to create the video. This library produces some warnings that can be distracting, so, to suppress these warnings we run the code below."
   ]
  },
  {
   "cell_type": "code",
   "execution_count": 37,
   "metadata": {
    "deletable": false,
    "editable": false
   },
   "outputs": [],
   "source": [
    "# Suppress warnings from imageio\n",
    "import logging\n",
    "logging.getLogger().setLevel(logging.ERROR)"
   ]
  },
  {
   "cell_type": "markdown",
   "metadata": {},
   "source": [
    "In the cell below we create a video of our agent interacting with the Lunar Lander environment using the trained `q_network`. The video is saved to the `videos` folder with the given `filename`. We use the `utils.embed_mp4` function to embed the video in the Jupyter Notebook so that we can see it here directly without having to download it.\n",
    "\n",
    "We should note that since the lunar lander starts with a random initial force applied to its center of mass, every time you run the cell below you will see a different video. If the agent was trained properly, it should be able to land the lunar lander in the landing pad every time, regardless of the initial force applied to its center of mass."
   ]
  },
  {
   "cell_type": "code",
   "execution_count": 38,
   "metadata": {
    "deletable": false,
    "editable": false,
    "id": "3Ttb_zLeJKiG"
   },
   "outputs": [
    {
     "data": {
      "text/html": [
       "\n",
       "    <video width=\"840\" height=\"480\" controls>\n",
       "    <source src=\"data:video/mp4;base64,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\" type=\"video/mp4\">\n",
       "    Your browser does not support the video tag.\n",
       "    </video>"
      ],
      "text/plain": [
       "<IPython.core.display.HTML object>"
      ]
     },
     "execution_count": 38,
     "metadata": {},
     "output_type": "execute_result"
    }
   ],
   "source": [
    "filename = \"./videos/lunar_lander.mp4\"\n",
    "\n",
    "utils.create_video(filename, env, q_network)\n",
    "utils.embed_mp4(filename)"
   ]
  },
  {
   "cell_type": "markdown",
   "metadata": {},
   "source": [
    "<a name=\"11\"></a>\n",
    "## 11 - Congratulations!\n",
    "\n",
    "You have successfully used Deep Q-Learning with Experience Replay to train an agent to land a lunar lander safely on a landing pad on the surface of the moon. Congratulations!"
   ]
  },
  {
   "cell_type": "markdown",
   "metadata": {},
   "source": [
    "<a name=\"12\"></a>\n",
    "## 12 - References\n",
    "\n",
    "If you would like to learn more about Deep Q-Learning, we recommend you check out the following papers.\n",
    "\n",
    "\n",
    "* Mnih, V., Kavukcuoglu, K., Silver, D. et al. Human-level control through deep reinforcement learning. Nature 518, 529–533 (2015).\n",
    "\n",
    "\n",
    "* Lillicrap, T. P., Hunt, J. J., Pritzel, A., et al. Continuous Control with Deep Reinforcement Learning. ICLR (2016).\n",
    "\n",
    "\n",
    "* Mnih, V., Kavukcuoglu, K., Silver, D. et al. Playing Atari with Deep Reinforcement Learning. arXiv e-prints.  arXiv:1312.5602 (2013)."
   ]
  },
  {
   "cell_type": "markdown",
   "metadata": {},
   "source": [
    "<details>\n",
    "  <summary><font size=\"2\" color=\"darkgreen\"><b>Please click here if you want to experiment with any of the non-graded code.</b></font></summary>\n",
    "    <p><i><b>Important Note: Please only do this when you've already passed the assignment to avoid problems with the autograder.</b></i>\n",
    "    <ol>\n",
    "        <li> On the notebook’s menu, click “View” > “Cell Toolbar” > “Edit Metadata”</li>\n",
    "        <li> Hit the “Edit Metadata” button next to the code cell which you want to lock/unlock</li>\n",
    "        <li> Set the attribute value for “editable” to:\n",
    "            <ul>\n",
    "                <li> “true” if you want to unlock it </li>\n",
    "                <li> “false” if you want to lock it </li>\n",
    "            </ul>\n",
    "        </li>\n",
    "        <li> On the notebook’s menu, click “View” > “Cell Toolbar” > “None” </li>\n",
    "    </ol>\n",
    "    <p> Here's a short demo of how to do the steps above: \n",
    "        <br>\n",
    "        <img src=\"https://lh3.google.com/u/0/d/14Xy_Mb17CZVgzVAgq7NCjMVBvSae3xO1\" align=\"center\" alt=\"unlock_cells.gif\">\n",
    "</details>"
   ]
  }
 ],
 "metadata": {
  "accelerator": "GPU",
  "colab": {
   "collapsed_sections": [],
   "name": "TensorFlow - Lunar Lander.ipynb",
   "provenance": []
  },
  "kernelspec": {
   "display_name": "Python 3",
   "language": "python",
   "name": "python3"
  },
  "language_info": {
   "codemirror_mode": {
    "name": "ipython",
    "version": 3
   },
   "file_extension": ".py",
   "mimetype": "text/x-python",
   "name": "python",
   "nbconvert_exporter": "python",
   "pygments_lexer": "ipython3",
   "version": "3.11.3"
  }
 },
 "nbformat": 4,
 "nbformat_minor": 1
}
